{
 "cells": [
  {
   "cell_type": "code",
   "execution_count": 1,
   "metadata": {},
   "outputs": [
    {
     "name": "stdout",
     "output_type": "stream",
     "text": [
      "{'text': ' My name is Charlie and I am from KD 004. We are transporting one patient from KK Taman, Ehsan. The patient is 13 years old. He is a male, NKMI, NKDFA, LH, MBA, Loli vs. Bicycle. This morning around 8.30am. The patient was a cyclist. Post-traumat, he had a pain in his right shoulder and right auricular.'}\n"
     ]
    }
   ],
   "source": [
    "from transformers import pipeline\n",
    "import torch\n",
    "\n",
    "if torch.cuda.is_available():\n",
    "    device = \"cuda:0\"\n",
    "    torch_dtype = torch.float16\n",
    "else:\n",
    "    device = \"cpu\"\n",
    "    torch_dtype = torch.float32\n",
    "\n",
    "# Provide the correct file path for the audio file you want to transcribe\n",
    "audio_file_path = r\"c:\\Users\\Azfar\\Downloads\\1693030500949-voice_record_1693030420671.wav\"\n",
    "\n",
    "pipe = pipeline(\n",
    "    \"automatic-speech-recognition\",\n",
    "    model=\"openai/whisper-medium\",\n",
    "    torch_dtype=torch_dtype,\n",
    "    device=device,\n",
    "    max_new_tokens=500\n",
    ")\n",
    "\n",
    "# Transcribe the audio file\n",
    "res = pipe(audio_file_path)\n",
    "print(res)"
   ]
  },
  {
   "cell_type": "code",
   "execution_count": 1,
   "metadata": {},
   "outputs": [
    {
     "name": "stdout",
     "output_type": "stream",
     "text": [
      "Sampling Rate: 16000\n"
     ]
    }
   ],
   "source": [
    "import torchaudio\n",
    "\n",
    "# Provide the path to your audio file\n",
    "audio_file_path = r\"c:\\Users\\Azfar\\Downloads\\1693030500949-voice_record_1693030420671.wav\"\n",
    "\n",
    "# Load the audio file\n",
    "waveform, sample_rate = torchaudio.load(audio_file_path)\n",
    "\n",
    "# Print the sampling rate\n",
    "print(\"Sampling Rate:\", sample_rate)\n"
   ]
  },
  {
   "cell_type": "code",
   "execution_count": 7,
   "metadata": {},
   "outputs": [
    {
     "name": "stdout",
     "output_type": "stream",
     "text": [
      "{'text': ' My name is Charlie and I am from KD 004. We are transporting one patient from KK Taman, Ehsan. The patient is 13 years old. He is a male, NKMI, NKDFA, LH, MBA, Loli vs. Bicycle. This morning around 8.30am. The patient was a cyclist. Post-traumat, he had a pain in his right shoulder and right auricular.'}\n",
      "Length of audio sample is 0.0 minutes 0.00 seconds\n"
     ]
    },
    {
     "data": {
      "text/plain": [
       "[]"
      ]
     },
     "execution_count": 7,
     "metadata": {},
     "output_type": "execute_result"
    }
   ],
   "source": [
    "import numpy as np\n",
    "from transformers import pipeline\n",
    "import torch\n",
    "\n",
    "if torch.cuda.is_available():\n",
    "    device = \"cuda:0\"\n",
    "    torch_dtype = torch.float16\n",
    "else:\n",
    "    device = \"cpu\"\n",
    "    torch_dtype = torch.float32\n",
    "\n",
    "# Provide the correct file path for the audio file you want to transcribe\n",
    "audio_file_path = r\"c:\\Users\\Azfar\\Downloads\\1693030500949-voice_record_1693030420671.wav\"\n",
    "\n",
    "pipe = pipeline(\n",
    "    \"automatic-speech-recognition\",\n",
    "    model=\"openai/whisper-medium\",\n",
    "    torch_dtype=torch_dtype,\n",
    "    device=device,\n",
    "    max_new_tokens=500\n",
    ")\n",
    "\n",
    "# Transcribe the audio file\n",
    "res = pipe(audio_file_path)\n",
    "print(res)\n",
    "target_length_in_m = 5\n",
    "\n",
    "# convert from minutes to seconds (* 60) to num samples (* sampling rate)\n",
    "sampling_rate = pipe.feature_extractor.sampling_rate\n",
    "target_length_in_samples = target_length_in_m * 60 * sampling_rate\n",
    "\n",
    "\n",
    "# how did we do?\n",
    "seconds = len(long_audio) / 16000\n",
    "minutes, seconds = divmod(seconds, 60)\n",
    "print(f\"Length of audio sample is {minutes} minutes {seconds:.2f} seconds\")\n",
    "\n",
    "pipe(\n",
    "    long_audio,\n",
    "    max_new_tokens=256,\n",
    "    generate_kwargs={\"task\": \"transcribe\"},\n",
    "    chunk_length_s=30,\n",
    "    batch_size=8,\n",
    ")"
   ]
  }
 ],
 "metadata": {
  "kernelspec": {
   "display_name": "Python 3 (ipykernel)",
   "language": "python",
   "name": "python3"
  },
  "language_info": {
   "codemirror_mode": {
    "name": "ipython",
    "version": 3
   },
   "file_extension": ".py",
   "mimetype": "text/x-python",
   "name": "python",
   "nbconvert_exporter": "python",
   "pygments_lexer": "ipython3",
   "version": "3.11.4"
  }
 },
 "nbformat": 4,
 "nbformat_minor": 2
}
